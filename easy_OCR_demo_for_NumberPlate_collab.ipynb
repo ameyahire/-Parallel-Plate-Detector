{
  "cells": [
    {
      "cell_type": "code",
      "execution_count": null,
      "metadata": {
        "colab": {
          "base_uri": "https://localhost:8080/"
        },
        "collapsed": true,
        "id": "hD8TRh0rCSmO",
        "outputId": "c1b76cf1-3559-48ed-9e3c-8396b83dcb02"
      },
      "outputs": [
        {
          "output_type": "stream",
          "name": "stdout",
          "text": [
            "Requirement already satisfied: easyocr in /usr/local/lib/python3.10/dist-packages (1.7.1)\n",
            "Requirement already satisfied: torch in /usr/local/lib/python3.10/dist-packages (from easyocr) (2.2.1+cu121)\n",
            "Requirement already satisfied: torchvision>=0.5 in /usr/local/lib/python3.10/dist-packages (from easyocr) (0.17.1+cu121)\n",
            "Requirement already satisfied: opencv-python-headless in /usr/local/lib/python3.10/dist-packages (from easyocr) (4.9.0.80)\n",
            "Requirement already satisfied: scipy in /usr/local/lib/python3.10/dist-packages (from easyocr) (1.11.4)\n",
            "Requirement already satisfied: numpy in /usr/local/lib/python3.10/dist-packages (from easyocr) (1.25.2)\n",
            "Requirement already satisfied: Pillow in /usr/local/lib/python3.10/dist-packages (from easyocr) (9.4.0)\n",
            "Requirement already satisfied: scikit-image in /usr/local/lib/python3.10/dist-packages (from easyocr) (0.19.3)\n",
            "Requirement already satisfied: python-bidi in /usr/local/lib/python3.10/dist-packages (from easyocr) (0.4.2)\n",
            "Requirement already satisfied: PyYAML in /usr/local/lib/python3.10/dist-packages (from easyocr) (6.0.1)\n",
            "Requirement already satisfied: Shapely in /usr/local/lib/python3.10/dist-packages (from easyocr) (2.0.4)\n",
            "Requirement already satisfied: pyclipper in /usr/local/lib/python3.10/dist-packages (from easyocr) (1.3.0.post5)\n",
            "Requirement already satisfied: ninja in /usr/local/lib/python3.10/dist-packages (from easyocr) (1.11.1.1)\n",
            "Requirement already satisfied: filelock in /usr/local/lib/python3.10/dist-packages (from torch->easyocr) (3.14.0)\n",
            "Requirement already satisfied: typing-extensions>=4.8.0 in /usr/local/lib/python3.10/dist-packages (from torch->easyocr) (4.11.0)\n",
            "Requirement already satisfied: sympy in /usr/local/lib/python3.10/dist-packages (from torch->easyocr) (1.12)\n",
            "Requirement already satisfied: networkx in /usr/local/lib/python3.10/dist-packages (from torch->easyocr) (3.3)\n",
            "Requirement already satisfied: jinja2 in /usr/local/lib/python3.10/dist-packages (from torch->easyocr) (3.1.4)\n",
            "Requirement already satisfied: fsspec in /usr/local/lib/python3.10/dist-packages (from torch->easyocr) (2023.6.0)\n",
            "Requirement already satisfied: nvidia-cuda-nvrtc-cu12==12.1.105 in /usr/local/lib/python3.10/dist-packages (from torch->easyocr) (12.1.105)\n",
            "Requirement already satisfied: nvidia-cuda-runtime-cu12==12.1.105 in /usr/local/lib/python3.10/dist-packages (from torch->easyocr) (12.1.105)\n",
            "Requirement already satisfied: nvidia-cuda-cupti-cu12==12.1.105 in /usr/local/lib/python3.10/dist-packages (from torch->easyocr) (12.1.105)\n",
            "Requirement already satisfied: nvidia-cudnn-cu12==8.9.2.26 in /usr/local/lib/python3.10/dist-packages (from torch->easyocr) (8.9.2.26)\n",
            "Requirement already satisfied: nvidia-cublas-cu12==12.1.3.1 in /usr/local/lib/python3.10/dist-packages (from torch->easyocr) (12.1.3.1)\n",
            "Requirement already satisfied: nvidia-cufft-cu12==11.0.2.54 in /usr/local/lib/python3.10/dist-packages (from torch->easyocr) (11.0.2.54)\n",
            "Requirement already satisfied: nvidia-curand-cu12==10.3.2.106 in /usr/local/lib/python3.10/dist-packages (from torch->easyocr) (10.3.2.106)\n",
            "Requirement already satisfied: nvidia-cusolver-cu12==11.4.5.107 in /usr/local/lib/python3.10/dist-packages (from torch->easyocr) (11.4.5.107)\n",
            "Requirement already satisfied: nvidia-cusparse-cu12==12.1.0.106 in /usr/local/lib/python3.10/dist-packages (from torch->easyocr) (12.1.0.106)\n",
            "Requirement already satisfied: nvidia-nccl-cu12==2.19.3 in /usr/local/lib/python3.10/dist-packages (from torch->easyocr) (2.19.3)\n",
            "Requirement already satisfied: nvidia-nvtx-cu12==12.1.105 in /usr/local/lib/python3.10/dist-packages (from torch->easyocr) (12.1.105)\n",
            "Requirement already satisfied: triton==2.2.0 in /usr/local/lib/python3.10/dist-packages (from torch->easyocr) (2.2.0)\n",
            "Requirement already satisfied: nvidia-nvjitlink-cu12 in /usr/local/lib/python3.10/dist-packages (from nvidia-cusolver-cu12==11.4.5.107->torch->easyocr) (12.4.127)\n",
            "Requirement already satisfied: six in /usr/local/lib/python3.10/dist-packages (from python-bidi->easyocr) (1.16.0)\n",
            "Requirement already satisfied: imageio>=2.4.1 in /usr/local/lib/python3.10/dist-packages (from scikit-image->easyocr) (2.31.6)\n",
            "Requirement already satisfied: tifffile>=2019.7.26 in /usr/local/lib/python3.10/dist-packages (from scikit-image->easyocr) (2024.5.10)\n",
            "Requirement already satisfied: PyWavelets>=1.1.1 in /usr/local/lib/python3.10/dist-packages (from scikit-image->easyocr) (1.6.0)\n",
            "Requirement already satisfied: packaging>=20.0 in /usr/local/lib/python3.10/dist-packages (from scikit-image->easyocr) (24.0)\n",
            "Requirement already satisfied: MarkupSafe>=2.0 in /usr/local/lib/python3.10/dist-packages (from jinja2->torch->easyocr) (2.1.5)\n",
            "Requirement already satisfied: mpmath>=0.19 in /usr/local/lib/python3.10/dist-packages (from sympy->torch->easyocr) (1.3.0)\n"
          ]
        }
      ],
      "source": [
        "!pip install easyocr"
      ]
    },
    {
      "cell_type": "code",
      "execution_count": null,
      "metadata": {
        "colab": {
          "base_uri": "https://localhost:8080/",
          "height": 384
        },
        "id": "6wKgPU52CZ6K",
        "outputId": "c4ada1ef-489d-49c7-92f5-14f75d839450"
      },
      "outputs": [
        {
          "ename": "ModuleNotFoundError",
          "evalue": "No module named 'easyocr'",
          "output_type": "error",
          "traceback": [
            "\u001b[0;31m---------------------------------------------------------------------------\u001b[0m",
            "\u001b[0;31mModuleNotFoundError\u001b[0m                       Traceback (most recent call last)",
            "\u001b[0;32m<ipython-input-1-77c1db42c402>\u001b[0m in \u001b[0;36m<cell line: 3>\u001b[0;34m()\u001b[0m\n\u001b[1;32m      1\u001b[0m \u001b[0;32mimport\u001b[0m \u001b[0mmatplotlib\u001b[0m\u001b[0;34m.\u001b[0m\u001b[0mpyplot\u001b[0m \u001b[0;32mas\u001b[0m \u001b[0mplt\u001b[0m\u001b[0;34m\u001b[0m\u001b[0;34m\u001b[0m\u001b[0m\n\u001b[1;32m      2\u001b[0m \u001b[0;32mimport\u001b[0m \u001b[0mcv2\u001b[0m\u001b[0;34m\u001b[0m\u001b[0;34m\u001b[0m\u001b[0m\n\u001b[0;32m----> 3\u001b[0;31m \u001b[0;32mimport\u001b[0m \u001b[0measyocr\u001b[0m\u001b[0;34m\u001b[0m\u001b[0;34m\u001b[0m\u001b[0m\n\u001b[0m\u001b[1;32m      4\u001b[0m \u001b[0;32mfrom\u001b[0m \u001b[0mIPython\u001b[0m\u001b[0;34m.\u001b[0m\u001b[0mdisplay\u001b[0m \u001b[0;32mimport\u001b[0m \u001b[0mImage\u001b[0m\u001b[0;34m\u001b[0m\u001b[0;34m\u001b[0m\u001b[0m\n\u001b[1;32m      5\u001b[0m \u001b[0;31m#from numba import njit, prange\u001b[0m\u001b[0;34m\u001b[0m\u001b[0;34m\u001b[0m\u001b[0m\n",
            "\u001b[0;31mModuleNotFoundError\u001b[0m: No module named 'easyocr'",
            "",
            "\u001b[0;31m---------------------------------------------------------------------------\u001b[0;32m\nNOTE: If your import is failing due to a missing package, you can\nmanually install dependencies using either !pip or !apt.\n\nTo view examples of installing some common dependencies, click the\n\"Open Examples\" button below.\n\u001b[0;31m---------------------------------------------------------------------------\u001b[0m\n"
          ]
        }
      ],
      "source": [
        "import matplotlib.pyplot as plt\n",
        "import cv2\n",
        "import easyocr\n",
        "from IPython.display import Image\n",
        "#from numba import njit, prange\n",
        "from joblib import Parallel, delayed"
      ]
    },
    {
      "cell_type": "code",
      "execution_count": null,
      "metadata": {
        "id": "sex6azscMJNR"
      },
      "outputs": [],
      "source": [
        "img_path = \"scaned_img_0.jpg\""
      ]
    },
    {
      "cell_type": "code",
      "execution_count": null,
      "metadata": {
        "colab": {
          "base_uri": "https://localhost:8080/",
          "height": 112
        },
        "id": "hxBLiy0AChPp",
        "outputId": "c71478d7-709d-48c7-939d-a048b16dc408"
      },
      "outputs": [
        {
          "data": {
            "image/jpeg": "[encoded data removed]",
            "text/plain": [
              "<IPython.core.display.Image object>"
            ]
          },
          "execution_count": 15,
          "metadata": {},
          "output_type": "execute_result"
        }
      ],
      "source": [
        "Image(img_path)"
      ]
    },
    {
      "cell_type": "code",
      "execution_count": null,
      "metadata": {
        "colab": {
          "base_uri": "https://localhost:8080/",
          "height": 248
        },
        "id": "l8TA2OpnFExB",
        "outputId": "f0b6d781-4136-4072-b35f-a82fbe47e40c"
      },
      "outputs": [
        {
          "data": {
            "image/png": "[encoded data removed]",
            "text/plain": [
              "<Figure size 640x480 with 1 Axes>"
            ]
          },
          "metadata": {},
          "output_type": "display_data"
        }
      ],
      "source": [
        "image = cv2.imread(img_path)\n",
        "# Convert to grayscale\n",
        "gray = cv2.cvtColor(image, cv2.COLOR_BGR2GRAY)\n",
        "\n",
        "# Apply bilateral filter to reduce noise while keeping edges sharp\n",
        "filtered = cv2.bilateralFilter(gray, 11, 17, 17)\n",
        "\n",
        "# Apply thresholding\n",
        "_, thresh = cv2.threshold(filtered, 0, 255, cv2.THRESH_BINARY + cv2.THRESH_OTSU)\n",
        "\n",
        "# Display the preprocessed image\n",
        "plt.imshow(cv2.cvtColor(thresh, cv2.COLOR_BGR2RGB))\n",
        "plt.title('Preprocessed Image')\n",
        "plt.show()"
      ]
    },
    {
      "cell_type": "code",
      "execution_count": null,
      "metadata": {
        "colab": {
          "base_uri": "https://localhost:8080/"
        },
        "id": "ZYD5fu4NCq2U",
        "outputId": "53d72f5d-a5e8-41e1-d71e-efb3b427f4e8"
      },
      "outputs": [
        {
          "name": "stderr",
          "output_type": "stream",
          "text": [
            "WARNING:easyocr.easyocr:Neither CUDA nor MPS are available - defaulting to CPU. Note: This module is much faster with a GPU.\n"
          ]
        }
      ],
      "source": [
        "\n",
        "reader = easyocr.Reader(['en'])"
      ]
    },
    {
      "cell_type": "code",
      "execution_count": null,
      "metadata": {
        "collapsed": true,
        "id": "ZCHP-450Cl9x"
      },
      "outputs": [],
      "source": [
        "# Define a function to process OCR on a single image\n",
        "def process_ocr(img):\n",
        "    # Read the text from the image\n",
        "    output = reader.readtext(img)\n",
        "    return output"
      ]
    },
    {
      "cell_type": "code",
      "execution_count": null,
      "metadata": {
        "colab": {
          "base_uri": "https://localhost:8080/"
        },
        "collapsed": true,
        "id": "tmdth0cVNCbH",
        "outputId": "0241e908-41e5-49a8-f4f9-2b0c397be201"
      },
      "outputs": [
        {
          "name": "stderr",
          "output_type": "stream",
          "text": [
            "/usr/local/lib/python3.10/dist-packages/joblib/externals/loky/backend/fork_exec.py:38: RuntimeWarning: os.fork() was called. os.fork() is incompatible with multithreaded code, and JAX is multithreaded, so this will likely lead to a deadlock.\n",
            "  pid = os.fork()\n"
          ]
        }
      ],
      "source": [
        "# Perform OCR in parallel\n",
        "output = Parallel(n_jobs=-1)(delayed(process_ocr)(img_path) for _ in range(1))"
      ]
    },
    {
      "cell_type": "code",
      "execution_count": null,
      "metadata": {
        "colab": {
          "base_uri": "https://localhost:8080/"
        },
        "id": "Ao44WMNJC_4R",
        "outputId": "e27ff0f7-6be3-44b5-f8fd-a2ccfaac83f6"
      },
      "outputs": [
        {
          "data": {
            "text/plain": [
              "[[([[13, 29], [262, 29], [262, 74], [13, 74]],\n",
              "   '0HIZ DE1433',\n",
              "   0.3642031607188293)]]"
            ]
          },
          "execution_count": 27,
          "metadata": {},
          "output_type": "execute_result"
        }
      ],
      "source": [
        "output"
      ]
    },
    {
      "cell_type": "code",
      "execution_count": null,
      "metadata": {
        "id": "SW8P4tA2DHKh"
      },
      "outputs": [],
      "source": [
        "cord = output[-1][0]"
      ]
    },
    {
      "cell_type": "code",
      "execution_count": null,
      "metadata": {
        "colab": {
          "base_uri": "https://localhost:8080/"
        },
        "id": "Vj08hYknEXnE",
        "outputId": "1e16b4e2-4bcd-4590-9341-f68130721a06"
      },
      "outputs": [
        {
          "data": {
            "text/plain": [
              "([[10, 7], [102, 7], [102, 36], [10, 36]], 'Mzeuiell', 0.024138251571547916)"
            ]
          },
          "execution_count": 12,
          "metadata": {},
          "output_type": "execute_result"
        }
      ],
      "source": [
        "cord"
      ]
    },
    {
      "cell_type": "code",
      "execution_count": null,
      "metadata": {
        "id": "fbGnZuAIPLge"
      },
      "outputs": [],
      "source": [
        "cord, _, _ = output[-1][0]\n"
      ]
    },
    {
      "cell_type": "code",
      "execution_count": null,
      "metadata": {
        "id": "DWBQf4TnOwwr"
      },
      "outputs": [],
      "source": [
        "# Find the bounding box coordinates\n",
        "x_values = [coord[0] for coord in cord]\n",
        "y_values = [coord[1] for coord in cord]\n",
        "x_min = min(x_values)\n",
        "y_min = min(y_values)\n",
        "x_max = max(x_values)\n",
        "y_max = max(y_values)"
      ]
    },
    {
      "cell_type": "code",
      "execution_count": null,
      "metadata": {
        "colab": {
          "base_uri": "https://localhost:8080/",
          "height": 82
        },
        "id": "7A3VjGcFPQDJ",
        "outputId": "c1d373fe-c510-4b7a-abd2-a97b3bd7d5ba"
      },
      "outputs": [
        {
          "data": {
            "text/html": [
              "<style>\n",
              "      .ndarray_repr .ndarray_raw_data {\n",
              "        display: none;\n",
              "      }\n",
              "      .ndarray_repr.show_array .ndarray_raw_data {\n",
              "        display: block;\n",
              "      }\n",
              "      .ndarray_repr.show_array .ndarray_image_preview {\n",
              "        display: none;\n",
              "      }\n",
              "      </style>\n",
              "      <div id=\"id-c0a2fe9c-2338-42c1-a2d6-44d4c5830415\" class=\"ndarray_repr\"><pre>ndarray (42, 125, 3) <button style=\"padding: 0 2px;\">show data</button></pre><img src=\"data:image/png;base64,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\" class=\"ndarray_image_preview\" /><pre class=\"ndarray_raw_data\">array([[[  1, 253,   4],\n",
              "        [  1, 252,   1],\n",
              "        [  6, 255,   2],\n",
              "        ...,\n",
              "        [  5, 255,   1],\n",
              "        [  0, 253,   0],\n",
              "        [  7, 255,   2]],\n",
              "\n",
              "       [[  2, 254,   5],\n",
              "        [ 17, 250,  14],\n",
              "        [ 36, 234,  22],\n",
              "        ...,\n",
              "        [ 44, 229,  35],\n",
              "        [ 35, 238,  29],\n",
              "        [ 13, 248,   7]],\n",
              "\n",
              "       [[  0, 252,   3],\n",
              "        [ 32, 232,  24],\n",
              "        [ 72, 167,  39],\n",
              "        ...,\n",
              "        [ 38,  92,  23],\n",
              "        [  5, 109,   0],\n",
              "        [ 34, 238,  25]],\n",
              "\n",
              "       ...,\n",
              "\n",
              "       [[  0, 255,   0],\n",
              "        [ 33, 233,  31],\n",
              "        [  0,  80,   0],\n",
              "        ...,\n",
              "        [ 33,  59,  65],\n",
              "        [  3,  87,  28],\n",
              "        [ 32, 227,  40]],\n",
              "\n",
              "       [[  0, 253,   3],\n",
              "        [ 27, 238,  28],\n",
              "        [  0, 102,   0],\n",
              "        ...,\n",
              "        [  1,  89,  19],\n",
              "        [  0, 108,   0],\n",
              "        [ 20, 238,  24]],\n",
              "\n",
              "       [[  0, 251,   4],\n",
              "        [ 22, 239,  24],\n",
              "        [ 71, 208,  62],\n",
              "        ...,\n",
              "        [ 78, 195,  86],\n",
              "        [ 58, 209,  62],\n",
              "        [ 17, 246,  19]]], dtype=uint8)</pre></div><script>\n",
              "      (() => {\n",
              "      const titles = ['show data', 'hide data'];\n",
              "      let index = 0\n",
              "      document.querySelector('#id-c0a2fe9c-2338-42c1-a2d6-44d4c5830415 button').onclick = (e) => {\n",
              "        document.querySelector('#id-c0a2fe9c-2338-42c1-a2d6-44d4c5830415').classList.toggle('show_array');\n",
              "        index = (++index) % 2;\n",
              "        document.querySelector('#id-c0a2fe9c-2338-42c1-a2d6-44d4c5830415 button').textContent = titles[index];\n",
              "        e.preventDefault();\n",
              "        e.stopPropagation();\n",
              "      }\n",
              "      })();\n",
              "    </script>"
            ],
            "text/plain": [
              "array([[[  1, 253,   4],\n",
              "        [  1, 252,   1],\n",
              "        [  6, 255,   2],\n",
              "        ...,\n",
              "        [  5, 255,   1],\n",
              "        [  0, 253,   0],\n",
              "        [  7, 255,   2]],\n",
              "\n",
              "       [[  2, 254,   5],\n",
              "        [ 17, 250,  14],\n",
              "        [ 36, 234,  22],\n",
              "        ...,\n",
              "        [ 44, 229,  35],\n",
              "        [ 35, 238,  29],\n",
              "        [ 13, 248,   7]],\n",
              "\n",
              "       [[  0, 252,   3],\n",
              "        [ 32, 232,  24],\n",
              "        [ 72, 167,  39],\n",
              "        ...,\n",
              "        [ 38,  92,  23],\n",
              "        [  5, 109,   0],\n",
              "        [ 34, 238,  25]],\n",
              "\n",
              "       ...,\n",
              "\n",
              "       [[  0, 255,   0],\n",
              "        [ 33, 233,  31],\n",
              "        [  0,  80,   0],\n",
              "        ...,\n",
              "        [ 33,  59,  65],\n",
              "        [  3,  87,  28],\n",
              "        [ 32, 227,  40]],\n",
              "\n",
              "       [[  0, 253,   3],\n",
              "        [ 27, 238,  28],\n",
              "        [  0, 102,   0],\n",
              "        ...,\n",
              "        [  1,  89,  19],\n",
              "        [  0, 108,   0],\n",
              "        [ 20, 238,  24]],\n",
              "\n",
              "       [[  0, 251,   4],\n",
              "        [ 22, 239,  24],\n",
              "        [ 71, 208,  62],\n",
              "        ...,\n",
              "        [ 78, 195,  86],\n",
              "        [ 58, 209,  62],\n",
              "        [ 17, 246,  19]]], dtype=uint8)"
            ]
          },
          "execution_count": 15,
          "metadata": {},
          "output_type": "execute_result"
        }
      ],
      "source": [
        "# Display the bounding box on the image\n",
        "image = cv2.imread(img_path)\n",
        "cv2.rectangle(image, (x_min, y_min), (x_max, y_max), (0, 0, 255), 2)"
      ]
    },
    {
      "cell_type": "code",
      "execution_count": null,
      "metadata": {
        "colab": {
          "base_uri": "https://localhost:8080/",
          "height": 247
        },
        "id": "k_kK3mg5PSTu",
        "outputId": "74588680-6586-4457-fe1d-537979a8eb5c"
      },
      "outputs": [
        {
          "data": {
            "text/plain": [
              "<matplotlib.image.AxesImage at 0x7f3aa3ba3730>"
            ]
          },
          "execution_count": 16,
          "metadata": {},
          "output_type": "execute_result"
        },
        {
          "data": {
            "image/png": "[encoded data removed]",
            "text/plain": [
              "<Figure size 640x480 with 1 Axes>"
            ]
          },
          "metadata": {},
          "output_type": "display_data"
        }
      ],
      "source": [
        "# Display the image with bounding box\n",
        "plt.imshow(cv2.cvtColor(image, cv2.COLOR_BGR2RGB))"
      ]
    }
  ],
  "metadata": {
    "colab": {
      "provenance": []
    },
    "kernelspec": {
      "display_name": "Python 3",
      "name": "python3"
    },
    "language_info": {
      "codemirror_mode": {
        "name": "ipython",
        "version": 3
      },
      "file_extension": ".py",
      "mimetype": "text/x-python",
      "name": "python",
      "nbconvert_exporter": "python",
      "pygments_lexer": "ipython3",
      "version": "3.9.7"
    }
  },
  "nbformat": 4,
  "nbformat_minor": 0
}